{
 "cells": [
  {
   "cell_type": "code",
   "execution_count": 10,
   "id": "c680eee0",
   "metadata": {},
   "outputs": [],
   "source": [
    "import tensorflow as tf\n",
    "import os\n",
    "from pathlib import Path\n",
    "import urllib.request as req\n",
    "import numpy as np\n",
    "from zipfile import ZipFile\n",
    "import matplotlib.pyplot as plt\n",
    "import tensorflow as tf"
   ]
  },
  {
   "cell_type": "code",
   "execution_count": 11,
   "id": "7b6cf629",
   "metadata": {},
   "outputs": [],
   "source": [
    "data_URL = \"https://download.pytorch.org/tutorial/hymenoptera_data.zip\""
   ]
  },
  {
   "cell_type": "code",
   "execution_count": 12,
   "id": "02dbb92b",
   "metadata": {},
   "outputs": [
    {
     "name": "stdout",
     "output_type": "stream",
     "text": [
      "hymenoptera_data created\n"
     ]
    }
   ],
   "source": [
    "def create_dir(Data_dir):\n",
    "    os.makedirs(Data_dir,exist_ok=True)\n",
    "    print(f'{Data_dir} created')\n",
    "Root_dir='hymenoptera_data'\n",
    "\n",
    "create_dir(Root_dir)"
   ]
  },
  {
   "cell_type": "code",
   "execution_count": 13,
   "id": "8871cb4f",
   "metadata": {},
   "outputs": [
    {
     "name": "stdout",
     "output_type": "stream",
     "text": [
      "file is already present\n"
     ]
    }
   ],
   "source": [
    "data_path=os.path.join(Root_dir,\"data.zip\")\n",
    "\n",
    "if not os.path.isfile(data_path):\n",
    "    print(\"downloading data...\")\n",
    "    filename,headers=req.urlretrieve(data_URL,data_path)\n",
    "    print(f\"filename: {filename} created with info \\n{headers}\")\n",
    "else:\n",
    "    print(f\"file is already present\")"
   ]
  },
  {
   "cell_type": "code",
   "execution_count": 14,
   "id": "c53c9a81",
   "metadata": {},
   "outputs": [],
   "source": [
    "\n",
    "\n",
    "unzip_data_dir=os.path.join(Root_dir,'unzip_data')"
   ]
  },
  {
   "cell_type": "code",
   "execution_count": 15,
   "id": "f4f01b3e",
   "metadata": {},
   "outputs": [
    {
     "name": "stdout",
     "output_type": "stream",
     "text": [
      "hymenoptera_data\\unzip_data created\n",
      "data extraction started\n"
     ]
    }
   ],
   "source": [
    "from zipfile import ZipFile\n",
    "\n",
    "unzip_data_dir=os.path.join(Root_dir,'unzip_data')\n",
    "\n",
    "if not os.path.exists(unzip_data_dir):\n",
    "    create_dir(unzip_data_dir)\n",
    "    with ZipFile(data_path) as zip_:\n",
    "        print(f'data extraction started')\n",
    "        zip_.extractall(unzip_data_dir)\n",
    "else:\n",
    "    print(f'Data already extracted')"
   ]
  },
  {
   "cell_type": "code",
   "execution_count": 19,
   "id": "e9c918c9",
   "metadata": {},
   "outputs": [],
   "source": [
    "main_data_dir=Path(\"./hymenoptera_data/unzip_data/hymenoptera_data/train\")"
   ]
  },
  {
   "cell_type": "code",
   "execution_count": 20,
   "id": "39f20bc6",
   "metadata": {},
   "outputs": [
    {
     "data": {
      "text/plain": [
       "WindowsPath('hymenoptera_data/unzip_data/hymenoptera_data/train')"
      ]
     },
     "execution_count": 20,
     "metadata": {},
     "output_type": "execute_result"
    }
   ],
   "source": [
    "main_data_dir"
   ]
  },
  {
   "cell_type": "code",
   "execution_count": 66,
   "id": "cba8be87",
   "metadata": {},
   "outputs": [],
   "source": [
    "BATCH_SIZE=32\n",
    "Image_size=(224,224)\n"
   ]
  },
  {
   "cell_type": "code",
   "execution_count": 67,
   "id": "36c23058",
   "metadata": {},
   "outputs": [],
   "source": [
    "data_gen_kwargs=dict(rescale=1./255,validation_split=0.20)"
   ]
  },
  {
   "cell_type": "code",
   "execution_count": 68,
   "id": "4f93a51a",
   "metadata": {},
   "outputs": [],
   "source": [
    "dataflow_kwargs=dict(target_size=Image_size,batch_size=BATCH_SIZE)"
   ]
  },
  {
   "cell_type": "code",
   "execution_count": 69,
   "id": "d7975b60",
   "metadata": {},
   "outputs": [],
   "source": [
    "valid_data_gen=tf.keras.preprocessing.image.ImageDataGenerator(**data_gen_kwargs)"
   ]
  },
  {
   "cell_type": "code",
   "execution_count": 70,
   "id": "f52e7a0a",
   "metadata": {},
   "outputs": [
    {
     "name": "stdout",
     "output_type": "stream",
     "text": [
      "Found 48 images belonging to 2 classes.\n"
     ]
    }
   ],
   "source": [
    "valid_dataflow=valid_data_gen.flow_from_directory(main_data_dir,subset='validation'\n",
    "                                                  ,shuffle=False,**dataflow_kwargs)"
   ]
  },
  {
   "cell_type": "code",
   "execution_count": 71,
   "id": "5b464b3c",
   "metadata": {},
   "outputs": [
    {
     "name": "stdout",
     "output_type": "stream",
     "text": [
      "Found 196 images belonging to 2 classes.\n"
     ]
    }
   ],
   "source": [
    "valid_data_gen=tf.keras.preprocessing.image.ImageDataGenerator(**data_gen_kwargs)\n",
    "do_data_augmentation=False\n",
    "if do_data_augmentation:\n",
    "    train_datagen=tf.keras.preprocessing.image.ImageDataGenerator(\n",
    "    rotation_range=40,\n",
    "    horizontal_flip=True,\n",
    "    width_shift_range=0.2,\n",
    "    height_shift_range=0.2,\n",
    "    shear_range=0.2,\n",
    "    zoom_range=0.2,**data_gen_kwargs)\n",
    "else:\n",
    "    train_datagen=valid_data_gen\n",
    "\n",
    "train_dataflow=train_datagen.flow_from_directory(main_data_dir,subset='training',\n",
    "                                                shuffle=False,**dataflow_kwargs)"
   ]
  },
  {
   "cell_type": "code",
   "execution_count": 72,
   "id": "6a6ef909",
   "metadata": {},
   "outputs": [],
   "source": [
    "RGB_IMAGE_SIZE=(224,224,3)"
   ]
  },
  {
   "cell_type": "code",
   "execution_count": 73,
   "id": "9802c387",
   "metadata": {},
   "outputs": [],
   "source": [
    "vgg=tf.keras.applications.vgg16.VGG16(\n",
    "input_shape=RGB_IMAGE_SIZE,\n",
    "weights='imagenet',\n",
    "include_top=False)"
   ]
  },
  {
   "cell_type": "code",
   "execution_count": 74,
   "id": "7f4b5803",
   "metadata": {},
   "outputs": [
    {
     "name": "stdout",
     "output_type": "stream",
     "text": [
      "Model: \"vgg16\"\n",
      "_________________________________________________________________\n",
      " Layer (type)                Output Shape              Param #   \n",
      "=================================================================\n",
      " input_3 (InputLayer)        [(None, 224, 224, 3)]     0         \n",
      "                                                                 \n",
      " block1_conv1 (Conv2D)       (None, 224, 224, 64)      1792      \n",
      "                                                                 \n",
      " block1_conv2 (Conv2D)       (None, 224, 224, 64)      36928     \n",
      "                                                                 \n",
      " block1_pool (MaxPooling2D)  (None, 112, 112, 64)      0         \n",
      "                                                                 \n",
      " block2_conv1 (Conv2D)       (None, 112, 112, 128)     73856     \n",
      "                                                                 \n",
      " block2_conv2 (Conv2D)       (None, 112, 112, 128)     147584    \n",
      "                                                                 \n",
      " block2_pool (MaxPooling2D)  (None, 56, 56, 128)       0         \n",
      "                                                                 \n",
      " block3_conv1 (Conv2D)       (None, 56, 56, 256)       295168    \n",
      "                                                                 \n",
      " block3_conv2 (Conv2D)       (None, 56, 56, 256)       590080    \n",
      "                                                                 \n",
      " block3_conv3 (Conv2D)       (None, 56, 56, 256)       590080    \n",
      "                                                                 \n",
      " block3_pool (MaxPooling2D)  (None, 28, 28, 256)       0         \n",
      "                                                                 \n",
      " block4_conv1 (Conv2D)       (None, 28, 28, 512)       1180160   \n",
      "                                                                 \n",
      " block4_conv2 (Conv2D)       (None, 28, 28, 512)       2359808   \n",
      "                                                                 \n",
      " block4_conv3 (Conv2D)       (None, 28, 28, 512)       2359808   \n",
      "                                                                 \n",
      " block4_pool (MaxPooling2D)  (None, 14, 14, 512)       0         \n",
      "                                                                 \n",
      " block5_conv1 (Conv2D)       (None, 14, 14, 512)       2359808   \n",
      "                                                                 \n",
      " block5_conv2 (Conv2D)       (None, 14, 14, 512)       2359808   \n",
      "                                                                 \n",
      " block5_conv3 (Conv2D)       (None, 14, 14, 512)       2359808   \n",
      "                                                                 \n",
      " block5_pool (MaxPooling2D)  (None, 7, 7, 512)         0         \n",
      "                                                                 \n",
      "=================================================================\n",
      "Total params: 14,714,688\n",
      "Trainable params: 14,714,688\n",
      "Non-trainable params: 0\n",
      "_________________________________________________________________\n"
     ]
    }
   ],
   "source": [
    "vgg.summary()"
   ]
  },
  {
   "cell_type": "code",
   "execution_count": 75,
   "id": "a68f2dff",
   "metadata": {},
   "outputs": [
    {
     "name": "stdout",
     "output_type": "stream",
     "text": [
      "input_3:False\n",
      "block1_conv1:False\n",
      "block1_conv2:False\n",
      "block1_pool:False\n",
      "block2_conv1:False\n",
      "block2_conv2:False\n",
      "block2_pool:False\n",
      "block3_conv1:False\n",
      "block3_conv2:False\n",
      "block3_conv3:False\n",
      "block3_pool:False\n",
      "block4_conv1:False\n",
      "block4_conv2:False\n",
      "block4_conv3:False\n",
      "block4_pool:False\n",
      "block5_conv1:False\n",
      "block5_conv2:False\n",
      "block5_conv3:False\n",
      "block5_pool:False\n"
     ]
    }
   ],
   "source": [
    "for layer in vgg.layers:\n",
    "    layer.trainable=False\n",
    "    print(f'{layer.name}:{layer.trainable}')"
   ]
  },
  {
   "cell_type": "code",
   "execution_count": 76,
   "id": "25c5f559",
   "metadata": {},
   "outputs": [
    {
     "data": {
      "text/plain": [
       "<KerasTensor: shape=(None, 7, 7, 512) dtype=float32 (created by layer 'block5_pool')>"
      ]
     },
     "execution_count": 76,
     "metadata": {},
     "output_type": "execute_result"
    }
   ],
   "source": [
    "vgg.output"
   ]
  },
  {
   "cell_type": "code",
   "execution_count": 77,
   "id": "da72e863",
   "metadata": {},
   "outputs": [],
   "source": [
    "CLASSES=2\n",
    "\n",
    "x=tf.keras.layers.Flatten()(vgg.output)\n",
    "prediction=tf.keras.layers.Dense(CLASSES,activation='softmax')(x)"
   ]
  },
  {
   "cell_type": "code",
   "execution_count": 78,
   "id": "03ea6279",
   "metadata": {},
   "outputs": [],
   "source": [
    "model=tf.keras.models.Model(inputs=vgg.input,outputs=prediction)"
   ]
  },
  {
   "cell_type": "code",
   "execution_count": 79,
   "id": "3ed62c33",
   "metadata": {},
   "outputs": [
    {
     "name": "stdout",
     "output_type": "stream",
     "text": [
      "Model: \"model_2\"\n",
      "_________________________________________________________________\n",
      " Layer (type)                Output Shape              Param #   \n",
      "=================================================================\n",
      " input_3 (InputLayer)        [(None, 224, 224, 3)]     0         \n",
      "                                                                 \n",
      " block1_conv1 (Conv2D)       (None, 224, 224, 64)      1792      \n",
      "                                                                 \n",
      " block1_conv2 (Conv2D)       (None, 224, 224, 64)      36928     \n",
      "                                                                 \n",
      " block1_pool (MaxPooling2D)  (None, 112, 112, 64)      0         \n",
      "                                                                 \n",
      " block2_conv1 (Conv2D)       (None, 112, 112, 128)     73856     \n",
      "                                                                 \n",
      " block2_conv2 (Conv2D)       (None, 112, 112, 128)     147584    \n",
      "                                                                 \n",
      " block2_pool (MaxPooling2D)  (None, 56, 56, 128)       0         \n",
      "                                                                 \n",
      " block3_conv1 (Conv2D)       (None, 56, 56, 256)       295168    \n",
      "                                                                 \n",
      " block3_conv2 (Conv2D)       (None, 56, 56, 256)       590080    \n",
      "                                                                 \n",
      " block3_conv3 (Conv2D)       (None, 56, 56, 256)       590080    \n",
      "                                                                 \n",
      " block3_pool (MaxPooling2D)  (None, 28, 28, 256)       0         \n",
      "                                                                 \n",
      " block4_conv1 (Conv2D)       (None, 28, 28, 512)       1180160   \n",
      "                                                                 \n",
      " block4_conv2 (Conv2D)       (None, 28, 28, 512)       2359808   \n",
      "                                                                 \n",
      " block4_conv3 (Conv2D)       (None, 28, 28, 512)       2359808   \n",
      "                                                                 \n",
      " block4_pool (MaxPooling2D)  (None, 14, 14, 512)       0         \n",
      "                                                                 \n",
      " block5_conv1 (Conv2D)       (None, 14, 14, 512)       2359808   \n",
      "                                                                 \n",
      " block5_conv2 (Conv2D)       (None, 14, 14, 512)       2359808   \n",
      "                                                                 \n",
      " block5_conv3 (Conv2D)       (None, 14, 14, 512)       2359808   \n",
      "                                                                 \n",
      " block5_pool (MaxPooling2D)  (None, 7, 7, 512)         0         \n",
      "                                                                 \n",
      " flatten_2 (Flatten)         (None, 25088)             0         \n",
      "                                                                 \n",
      " dense_2 (Dense)             (None, 2)                 50178     \n",
      "                                                                 \n",
      "=================================================================\n",
      "Total params: 14,764,866\n",
      "Trainable params: 50,178\n",
      "Non-trainable params: 14,714,688\n",
      "_________________________________________________________________\n"
     ]
    }
   ],
   "source": [
    "model.summary()"
   ]
  },
  {
   "cell_type": "code",
   "execution_count": 80,
   "id": "23f12907",
   "metadata": {},
   "outputs": [],
   "source": [
    "model.compile(\n",
    "    optimizer=tf.keras.optimizers.SGD(learning_rate=0.01,momentum=0.9),\n",
    "    loss=tf.keras.losses.CategoricalCrossentropy(),\n",
    "    metrics=[\"accuracy\"]\n",
    ")"
   ]
  },
  {
   "cell_type": "code",
   "execution_count": 81,
   "id": "0afb234d",
   "metadata": {},
   "outputs": [
    {
     "name": "stdout",
     "output_type": "stream",
     "text": [
      "Epoch 1/10\n",
      "7/7 [==============================] - 25s 3s/step - loss: 60.9547 - accuracy: 0.3622 - val_loss: 32.1414 - val_accuracy: 0.5000\n",
      "Epoch 2/10\n",
      "7/7 [==============================] - 24s 4s/step - loss: 58.9598 - accuracy: 0.3418 - val_loss: 1.1557 - val_accuracy: 0.8958\n",
      "Epoch 3/10\n",
      "7/7 [==============================] - 25s 4s/step - loss: 17.8075 - accuracy: 0.7500 - val_loss: 36.7992 - val_accuracy: 0.5000\n",
      "Epoch 4/10\n",
      "7/7 [==============================] - 24s 4s/step - loss: 77.4772 - accuracy: 0.5255 - val_loss: 124.2625 - val_accuracy: 0.5000\n",
      "Epoch 5/10\n",
      "7/7 [==============================] - 24s 3s/step - loss: 64.7872 - accuracy: 0.6990 - val_loss: 108.1103 - val_accuracy: 0.5000\n",
      "Epoch 6/10\n",
      "7/7 [==============================] - 25s 4s/step - loss: 139.0028 - accuracy: 0.6378 - val_loss: 109.3468 - val_accuracy: 0.5000\n",
      "Epoch 7/10\n",
      "7/7 [==============================] - 24s 3s/step - loss: 274.7729 - accuracy: 0.4949 - val_loss: 89.5323 - val_accuracy: 0.5000\n",
      "Epoch 8/10\n",
      "7/7 [==============================] - 24s 3s/step - loss: 226.8694 - accuracy: 0.4286 - val_loss: 210.0271 - val_accuracy: 0.5000\n",
      "Epoch 9/10\n",
      "7/7 [==============================] - 24s 3s/step - loss: 214.0970 - accuracy: 0.2296 - val_loss: 78.3677 - val_accuracy: 0.5417\n",
      "Epoch 10/10\n",
      "7/7 [==============================] - 24s 3s/step - loss: 104.4859 - accuracy: 0.3878 - val_loss: 74.8772 - val_accuracy: 0.5833\n"
     ]
    }
   ],
   "source": [
    "epochs=10\n",
    "\n",
    "history=model.fit(train_dataflow,epochs=epochs,validation_data=valid_dataflow,\n",
    "                 )"
   ]
  },
  {
   "cell_type": "code",
   "execution_count": null,
   "id": "ab3a7d31",
   "metadata": {},
   "outputs": [],
   "source": []
  }
 ],
 "metadata": {
  "kernelspec": {
   "display_name": "Python 3 (ipykernel)",
   "language": "python",
   "name": "python3"
  },
  "language_info": {
   "codemirror_mode": {
    "name": "ipython",
    "version": 3
   },
   "file_extension": ".py",
   "mimetype": "text/x-python",
   "name": "python",
   "nbconvert_exporter": "python",
   "pygments_lexer": "ipython3",
   "version": "3.9.13"
  }
 },
 "nbformat": 4,
 "nbformat_minor": 5
}
